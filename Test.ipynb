{
 "cells": [
  {
   "cell_type": "code",
   "execution_count": 2,
   "metadata": {},
   "outputs": [],
   "source": [
    "import numpy as np\n",
    "from sklearn.metrics import pairwise_distances"
   ]
  },
  {
   "cell_type": "code",
   "execution_count": 3,
   "metadata": {},
   "outputs": [],
   "source": [
    "list_A = [(461.5, 281.0), (275.0, 282.0), (200, 222.0), (300, 333.0)] #centerCount_list"
   ]
  },
  {
   "cell_type": "code",
   "execution_count": 3,
   "metadata": {},
   "outputs": [
    {
     "data": {
      "text/plain": [
       "1"
      ]
     },
     "execution_count": 3,
     "metadata": {},
     "output_type": "execute_result"
    }
   ],
   "source": [
    "l = [1]\n",
    "len(l)"
   ]
  },
  {
   "cell_type": "code",
   "execution_count": 5,
   "metadata": {},
   "outputs": [
    {
     "data": {
      "text/plain": [
       "(200, 222.0)"
      ]
     },
     "execution_count": 5,
     "metadata": {},
     "output_type": "execute_result"
    }
   ],
   "source": [
    "min(list_A)"
   ]
  },
  {
   "cell_type": "code",
   "execution_count": 4,
   "metadata": {},
   "outputs": [
    {
     "name": "stdout",
     "output_type": "stream",
     "text": [
      "(461.5, 281.0)\n",
      "461.5\n",
      "...........\n",
      "(275.0, 282.0)\n",
      "distance_line = 186.09674903124989\n",
      "(200, 222.0)\n",
      "distance_line = 273.28007611240156\n",
      "(300, 333.0)\n",
      "distance_line = 162.1172415260018\n",
      "_____________________________________________\n",
      "(275.0, 282.0)\n",
      "275.0\n",
      "...........\n",
      "(461.5, 281.0)\n",
      "distance_line = 258.14143410154054\n",
      "(200, 222.0)\n",
      "distance_line = 111.12605455067681\n",
      "(300, 333.0)\n",
      "distance_line = 30.805843601498726\n",
      "_____________________________________________\n",
      "(200, 222.0)\n",
      "200\n",
      "...........\n",
      "(461.5, 281.0)\n",
      "distance_line = 353.8954647915116\n",
      "(275.0, 282.0)\n",
      "distance_line = 91.83681179135085\n",
      "(300, 333.0)\n",
      "distance_line = 126.82271089990152\n",
      "_____________________________________________\n",
      "(300, 333.0)\n",
      "300\n",
      "...........\n",
      "(461.5, 281.0)\n",
      "distance_line = 205.6817930688081\n",
      "(275.0, 282.0)\n",
      "distance_line = 63.15853069855251\n",
      "(200, 222.0)\n",
      "distance_line = 166.4001201922643\n",
      "_____________________________________________\n"
     ]
    }
   ],
   "source": [
    "for C, center_First in enumerate(list_A):\n",
    "    print(center_First)\n",
    "    print(center_First[0])\n",
    "    print(\"...........\")\n",
    "    for CC, center_Second in enumerate(list_A):\n",
    "        if C != CC:\n",
    "            print(center_Second)\n",
    "            #P = (x,y)\n",
    "            P1 = (int(center_First[0]), int(center_First[1]))  # 0\n",
    "            P2 = (int(center_Second[0]), int(center_Second[1]))  # 1\n",
    "            \n",
    "            distance_line = np.sqrt((P2[0] - P1[0])**2 + (P2[0] - P1[1])**2)\n",
    "            print('distance_line = {}'.format(str(distance_line)))\n",
    "    print('_____________________________________________')"
   ]
  },
  {
   "cell_type": "code",
   "execution_count": 6,
   "metadata": {},
   "outputs": [
    {
     "name": "stdout",
     "output_type": "stream",
     "text": [
      "[186.5  -1. ]\n"
     ]
    }
   ],
   "source": [
    "count_Subtract = np.subtract(list_A[0], list_A[1])\n",
    "print(count_Subtract)"
   ]
  },
  {
   "cell_type": "code",
   "execution_count": 7,
   "metadata": {},
   "outputs": [
    {
     "data": {
      "text/plain": [
       "numpy.ndarray"
      ]
     },
     "execution_count": 7,
     "metadata": {},
     "output_type": "execute_result"
    }
   ],
   "source": [
    "type(count_Subtract)"
   ]
  },
  {
   "cell_type": "code",
   "execution_count": 10,
   "metadata": {},
   "outputs": [
    {
     "data": {
      "text/plain": [
       "186.5"
      ]
     },
     "execution_count": 10,
     "metadata": {},
     "output_type": "execute_result"
    }
   ],
   "source": [
    "count_Subtract[0]"
   ]
  },
  {
   "cell_type": "code",
   "execution_count": 9,
   "metadata": {},
   "outputs": [
    {
     "data": {
      "text/plain": [
       "(186.5, -1.0)"
      ]
     },
     "execution_count": 9,
     "metadata": {},
     "output_type": "execute_result"
    }
   ],
   "source": [
    "from operator import sub\n",
    "c = tuple(map(sub, list_A[0], list_A[1]))\n",
    "c"
   ]
  },
  {
   "cell_type": "code",
   "execution_count": 27,
   "metadata": {},
   "outputs": [
    {
     "data": {
      "text/plain": [
       "array([ 90, 190])"
      ]
     },
     "execution_count": 27,
     "metadata": {},
     "output_type": "execute_result"
    }
   ],
   "source": [
    "P1 = (int(10),int(10))\n",
    "P2 = (int(100),int(200))\n",
    "distance_line = np.subtract(P2, P1)\n",
    "distance_line"
   ]
  },
  {
   "cell_type": "code",
   "execution_count": 28,
   "metadata": {},
   "outputs": [
    {
     "data": {
      "text/plain": [
       "(10, 10)"
      ]
     },
     "execution_count": 28,
     "metadata": {},
     "output_type": "execute_result"
    }
   ],
   "source": [
    "P1"
   ]
  },
  {
   "cell_type": "code",
   "execution_count": 31,
   "metadata": {},
   "outputs": [
    {
     "name": "stdout",
     "output_type": "stream",
     "text": [
      "127.27922061357856\n"
     ]
    }
   ],
   "source": [
    "dist = np.sqrt((P2[0] - P1[0])**2 + (P2[0] - P1[1])**2)\n",
    "print(dist)"
   ]
  },
  {
   "cell_type": "code",
   "execution_count": null,
   "metadata": {},
   "outputs": [],
   "source": []
  },
  {
   "cell_type": "markdown",
   "metadata": {},
   "source": [
    "## distances sklearn"
   ]
  },
  {
   "cell_type": "code",
   "execution_count": 2,
   "metadata": {},
   "outputs": [],
   "source": [
    "import numpy as np\n",
    "from sklearn.metrics import pairwise_distances"
   ]
  },
  {
   "cell_type": "code",
   "execution_count": 3,
   "metadata": {},
   "outputs": [],
   "source": [
    "list_B = [(461.5, 281.0), (275.0, 282.0), (200, 222.0), (300, 333.0)] #centerCount_list"
   ]
  },
  {
   "cell_type": "code",
   "execution_count": 4,
   "metadata": {},
   "outputs": [
    {
     "name": "stdout",
     "output_type": "stream",
     "text": [
      "<class 'numpy.ndarray'>\n",
      "[[  0.         186.50268095 268.07321761 169.66511132]\n",
      " [186.50268095   0.          96.04686356  56.79788728]\n",
      " [268.07321761  96.04686356   0.         149.40214189]\n",
      " [169.66511132  56.79788728 149.40214189   0.        ]]\n"
     ]
    }
   ],
   "source": [
    "distance_sklearn = pairwise_distances(list_B)\n",
    "print(type(distance_sklearn))\n",
    "print(distance_sklearn)"
   ]
  },
  {
   "cell_type": "code",
   "execution_count": 5,
   "metadata": {},
   "outputs": [
    {
     "data": {
      "text/plain": [
       "array([186.50268095,   0.        ,  96.04686356,  56.79788728])"
      ]
     },
     "execution_count": 5,
     "metadata": {},
     "output_type": "execute_result"
    }
   ],
   "source": [
    "distance_sklearn[1]"
   ]
  },
  {
   "cell_type": "code",
   "execution_count": 6,
   "metadata": {},
   "outputs": [
    {
     "data": {
      "text/plain": [
       "(461.5, 281.0)"
      ]
     },
     "execution_count": 6,
     "metadata": {},
     "output_type": "execute_result"
    }
   ],
   "source": [
    "list_B[0]"
   ]
  },
  {
   "cell_type": "code",
   "execution_count": 16,
   "metadata": {},
   "outputs": [
    {
     "name": "stdout",
     "output_type": "stream",
     "text": [
      "1\n",
      "2\n",
      "96.04686356149273\n",
      "1\n",
      "3\n",
      "56.79788728465171\n",
      "2\n",
      "1\n",
      "96.04686356149273\n",
      "2\n",
      "3\n",
      "149.40214188558343\n",
      "3\n",
      "1\n",
      "56.79788728465171\n",
      "3\n",
      "2\n",
      "149.40214188558343\n"
     ]
    }
   ],
   "source": [
    "for i, output_i in enumerate(distance_sklearn):\n",
    "    for ii, output_ii in enumerate(output_i):\n",
    "        if 0 < output_ii < 160:\n",
    "            print(i)\n",
    "            print(ii)\n",
    "            print(output_ii)"
   ]
  },
  {
   "cell_type": "code",
   "execution_count": 27,
   "metadata": {},
   "outputs": [],
   "source": [
    "# Check by numpy where"
   ]
  },
  {
   "cell_type": "code",
   "execution_count": 28,
   "metadata": {},
   "outputs": [
    {
     "name": "stdout",
     "output_type": "stream",
     "text": [
      "(array([0, 1, 1, 1, 2, 2, 2, 3, 3, 3], dtype=int64), array([0, 1, 2, 3, 1, 2, 3, 1, 2, 3], dtype=int64))\n",
      "[0 1 1 1 2 2 2 3 3 3]\n",
      "[0 1 2 3 1 2 3 1 2 3]\n",
      "2\n"
     ]
    }
   ],
   "source": [
    "Index_Check = np.where(distance_sklearn < 160)\n",
    "print(Index_Check)\n",
    "print(Index_Check[0])\n",
    "print(Index_Check[1])\n",
    "print(Index_Check[1][2])"
   ]
  },
  {
   "cell_type": "code",
   "execution_count": 30,
   "metadata": {},
   "outputs": [
    {
     "name": "stdout",
     "output_type": "stream",
     "text": [
      "1\n",
      "(275.0, 282.0)\n",
      "--------------\n",
      "2\n",
      "(200, 222.0)\n",
      "1\n",
      "(275.0, 282.0)\n",
      "--------------\n",
      "3\n",
      "(300, 333.0)\n",
      "2\n",
      "(200, 222.0)\n",
      "--------------\n",
      "1\n",
      "(275.0, 282.0)\n",
      "2\n",
      "(200, 222.0)\n",
      "--------------\n",
      "3\n",
      "(300, 333.0)\n",
      "3\n",
      "(300, 333.0)\n",
      "--------------\n",
      "1\n",
      "(275.0, 282.0)\n",
      "3\n",
      "(300, 333.0)\n",
      "--------------\n",
      "2\n",
      "(200, 222.0)\n"
     ]
    }
   ],
   "source": [
    "for k, output_k in enumerate(Index_Check[0]):\n",
    "    if Index_Check[1][k] != output_k:\n",
    "        print(output_k) #P1\n",
    "        print(list_B[output_k])\n",
    "        print('--------------')\n",
    "        print(Index_Check[1][k])#P2\n",
    "        print(list_B[Index_Check[1][k]])"
   ]
  },
  {
   "cell_type": "code",
   "execution_count": null,
   "metadata": {},
   "outputs": [],
   "source": []
  }
 ],
 "metadata": {
  "kernelspec": {
   "display_name": "Python 3",
   "language": "python",
   "name": "python3"
  },
  "language_info": {
   "codemirror_mode": {
    "name": "ipython",
    "version": 3
   },
   "file_extension": ".py",
   "mimetype": "text/x-python",
   "name": "python",
   "nbconvert_exporter": "python",
   "pygments_lexer": "ipython3",
   "version": "3.6.10"
  }
 },
 "nbformat": 4,
 "nbformat_minor": 4
}
