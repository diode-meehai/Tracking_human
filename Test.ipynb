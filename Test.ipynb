{
 "cells": [
  {
   "cell_type": "code",
   "execution_count": 1,
   "metadata": {},
   "outputs": [],
   "source": [
    "import numpy as np"
   ]
  },
  {
   "cell_type": "code",
   "execution_count": 33,
   "metadata": {},
   "outputs": [],
   "source": [
    "list_A = [(461.5, 281.0), (275.0, 282.0), (200, 222.0), (300, 333.0)]"
   ]
  },
  {
   "cell_type": "code",
   "execution_count": 34,
   "metadata": {},
   "outputs": [
    {
     "data": {
      "text/plain": [
       "1"
      ]
     },
     "execution_count": 34,
     "metadata": {},
     "output_type": "execute_result"
    }
   ],
   "source": [
    "l = [1]\n",
    "len(l)"
   ]
  },
  {
   "cell_type": "code",
   "execution_count": 51,
   "metadata": {},
   "outputs": [
    {
     "name": "stdout",
     "output_type": "stream",
     "text": [
      "(461.5, 281.0)\n",
      "461.5\n",
      "...........\n",
      "(275.0, 282.0)\n",
      "distance_line = 186.09674903124989\n",
      "(200, 222.0)\n",
      "distance_line = 273.28007611240156\n",
      "(300, 333.0)\n",
      "distance_line = 162.1172415260018\n",
      "_____________________________________________\n",
      "(275.0, 282.0)\n",
      "275.0\n",
      "...........\n",
      "(461.5, 281.0)\n",
      "distance_line = 258.14143410154054\n",
      "(200, 222.0)\n",
      "distance_line = 111.12605455067681\n",
      "(300, 333.0)\n",
      "distance_line = 30.805843601498726\n",
      "_____________________________________________\n",
      "(200, 222.0)\n",
      "200\n",
      "...........\n",
      "(461.5, 281.0)\n",
      "distance_line = 353.8954647915116\n",
      "(275.0, 282.0)\n",
      "distance_line = 91.83681179135085\n",
      "(300, 333.0)\n",
      "distance_line = 126.82271089990152\n",
      "_____________________________________________\n",
      "(300, 333.0)\n",
      "300\n",
      "...........\n",
      "(461.5, 281.0)\n",
      "distance_line = 205.6817930688081\n",
      "(275.0, 282.0)\n",
      "distance_line = 63.15853069855251\n",
      "(200, 222.0)\n",
      "distance_line = 166.4001201922643\n",
      "_____________________________________________\n"
     ]
    }
   ],
   "source": [
    "for C, center_First in enumerate(list_A):\n",
    "    print(center_First)\n",
    "    print(center_First[0])\n",
    "    print(\"...........\")\n",
    "    for CC, center_Second in enumerate(list_A):\n",
    "        if C != CC:\n",
    "            print(center_Second)\n",
    "            #P = (x,y)\n",
    "            P1 = (int(center_First[0]), int(center_First[1]))  # 0\n",
    "            P2 = (int(center_Second[0]), int(center_Second[1]))  # 1\n",
    "            \n",
    "            distance_line = np.sqrt((P2[0] - P1[0])**2 + (P2[0] - P1[1])**2)\n",
    "            print('distance_line = {}'.format(str(distance_line)))\n",
    "    print('_____________________________________________')"
   ]
  },
  {
   "cell_type": "code",
   "execution_count": 6,
   "metadata": {},
   "outputs": [
    {
     "name": "stdout",
     "output_type": "stream",
     "text": [
      "[186.5  -1. ]\n"
     ]
    }
   ],
   "source": [
    "count_Subtract = np.subtract(list_A[0], list_A[1])\n",
    "print(count_Subtract)"
   ]
  },
  {
   "cell_type": "code",
   "execution_count": 7,
   "metadata": {},
   "outputs": [
    {
     "data": {
      "text/plain": [
       "numpy.ndarray"
      ]
     },
     "execution_count": 7,
     "metadata": {},
     "output_type": "execute_result"
    }
   ],
   "source": [
    "type(count_Subtract)"
   ]
  },
  {
   "cell_type": "code",
   "execution_count": 10,
   "metadata": {},
   "outputs": [
    {
     "data": {
      "text/plain": [
       "186.5"
      ]
     },
     "execution_count": 10,
     "metadata": {},
     "output_type": "execute_result"
    }
   ],
   "source": [
    "count_Subtract[0]"
   ]
  },
  {
   "cell_type": "code",
   "execution_count": 9,
   "metadata": {},
   "outputs": [
    {
     "data": {
      "text/plain": [
       "(186.5, -1.0)"
      ]
     },
     "execution_count": 9,
     "metadata": {},
     "output_type": "execute_result"
    }
   ],
   "source": [
    "from operator import sub\n",
    "c = tuple(map(sub, list_A[0], list_A[1]))\n",
    "c"
   ]
  },
  {
   "cell_type": "code",
   "execution_count": 27,
   "metadata": {},
   "outputs": [
    {
     "data": {
      "text/plain": [
       "array([ 90, 190])"
      ]
     },
     "execution_count": 27,
     "metadata": {},
     "output_type": "execute_result"
    }
   ],
   "source": [
    "P1 = (int(10),int(10))\n",
    "P2 = (int(100),int(200))\n",
    "distance_line = np.subtract(P2, P1)\n",
    "distance_line"
   ]
  },
  {
   "cell_type": "code",
   "execution_count": 28,
   "metadata": {},
   "outputs": [
    {
     "data": {
      "text/plain": [
       "(10, 10)"
      ]
     },
     "execution_count": 28,
     "metadata": {},
     "output_type": "execute_result"
    }
   ],
   "source": [
    "P1"
   ]
  },
  {
   "cell_type": "code",
   "execution_count": 31,
   "metadata": {},
   "outputs": [
    {
     "name": "stdout",
     "output_type": "stream",
     "text": [
      "127.27922061357856\n"
     ]
    }
   ],
   "source": [
    "dist = np.sqrt((P2[0] - P1[0])**2 + (P2[0] - P1[1])**2)\n",
    "print(dist)"
   ]
  },
  {
   "cell_type": "code",
   "execution_count": 26,
   "metadata": {},
   "outputs": [
    {
     "ename": "TypeError",
     "evalue": "data type not understood",
     "output_type": "error",
     "traceback": [
      "\u001b[1;31m---------------------------------------------------------------------------\u001b[0m",
      "\u001b[1;31mTypeError\u001b[0m                                 Traceback (most recent call last)",
      "\u001b[1;32m<ipython-input-26-fec168121cf5>\u001b[0m in \u001b[0;36m<module>\u001b[1;34m\u001b[0m\n\u001b[1;32m----> 1\u001b[1;33m \u001b[0mx\u001b[0m \u001b[1;33m=\u001b[0m \u001b[0mnp\u001b[0m\u001b[1;33m.\u001b[0m\u001b[0masarray\u001b[0m\u001b[1;33m(\u001b[0m\u001b[0mP1\u001b[0m\u001b[1;33m,\u001b[0m \u001b[0mP2\u001b[0m\u001b[1;33m)\u001b[0m\u001b[1;33m\u001b[0m\u001b[1;33m\u001b[0m\u001b[0m\n\u001b[0m\u001b[0;32m      2\u001b[0m \u001b[0mpdist\u001b[0m\u001b[1;33m(\u001b[0m\u001b[0mx\u001b[0m\u001b[1;33m)\u001b[0m\u001b[1;33m\u001b[0m\u001b[1;33m\u001b[0m\u001b[0m\n",
      "\u001b[1;32m~\\Anaconda3\\envs\\TF2_GPU\\lib\\site-packages\\numpy\\core\\_asarray.py\u001b[0m in \u001b[0;36masarray\u001b[1;34m(a, dtype, order)\u001b[0m\n\u001b[0;32m     83\u001b[0m \u001b[1;33m\u001b[0m\u001b[0m\n\u001b[0;32m     84\u001b[0m     \"\"\"\n\u001b[1;32m---> 85\u001b[1;33m     \u001b[1;32mreturn\u001b[0m \u001b[0marray\u001b[0m\u001b[1;33m(\u001b[0m\u001b[0ma\u001b[0m\u001b[1;33m,\u001b[0m \u001b[0mdtype\u001b[0m\u001b[1;33m,\u001b[0m \u001b[0mcopy\u001b[0m\u001b[1;33m=\u001b[0m\u001b[1;32mFalse\u001b[0m\u001b[1;33m,\u001b[0m \u001b[0morder\u001b[0m\u001b[1;33m=\u001b[0m\u001b[0morder\u001b[0m\u001b[1;33m)\u001b[0m\u001b[1;33m\u001b[0m\u001b[1;33m\u001b[0m\u001b[0m\n\u001b[0m\u001b[0;32m     86\u001b[0m \u001b[1;33m\u001b[0m\u001b[0m\n\u001b[0;32m     87\u001b[0m \u001b[1;33m\u001b[0m\u001b[0m\n",
      "\u001b[1;31mTypeError\u001b[0m: data type not understood"
     ]
    }
   ],
   "source": [
    "\n",
    "pdist(x)"
   ]
  },
  {
   "cell_type": "code",
   "execution_count": null,
   "metadata": {},
   "outputs": [],
   "source": []
  }
 ],
 "metadata": {
  "kernelspec": {
   "display_name": "Python 3",
   "language": "python",
   "name": "python3"
  },
  "language_info": {
   "codemirror_mode": {
    "name": "ipython",
    "version": 3
   },
   "file_extension": ".py",
   "mimetype": "text/x-python",
   "name": "python",
   "nbconvert_exporter": "python",
   "pygments_lexer": "ipython3",
   "version": "3.6.10"
  }
 },
 "nbformat": 4,
 "nbformat_minor": 4
}
